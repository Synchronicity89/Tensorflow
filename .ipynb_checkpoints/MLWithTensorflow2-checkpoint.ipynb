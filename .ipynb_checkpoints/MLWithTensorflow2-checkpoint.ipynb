{
 "cells": [
  {
   "cell_type": "markdown",
   "metadata": {
    "colab_type": "text",
    "id": "view-in-github"
   },
   "source": [
    "<a href=\"https://colab.research.google.com/github/DivyaThakur24/Tensorflow/blob/master/MLWithTensorflow2.ipynb\" target=\"_parent\"><img src=\"https://colab.research.google.com/assets/colab-badge.svg\" alt=\"Open In Colab\"/></a>"
   ]
  },
  {
   "cell_type": "markdown",
   "metadata": {
    "colab_type": "text",
    "id": "96lwY9OZhzUz"
   },
   "source": [
    "#Traditional Programming"
   ]
  },
  {
   "cell_type": "markdown",
   "metadata": {
    "colab_type": "text",
    "id": "E7Kr05GFhw0M"
   },
   "source": [
    "---\n",
    "\n",
    "> > > > > >  **Equation --> y = 2.5 * x + 3**\n",
    "\n",
    "|    x    |   -10   |   -5     |    0    |   2    |  100  |    50     | \n",
    "|---------|----------|-----------|---------|---------|------------|---------|\n",
    "|    y    |   -22   |  -9.5   |    3    |    8   |  253  |  126.5 |\n",
    "\n",
    "---"
   ]
  },
  {
   "cell_type": "code",
   "execution_count": 1,
   "metadata": {
    "colab": {},
    "colab_type": "code",
    "id": "dNvDTTwmh_Dn"
   },
   "outputs": [],
   "source": [
    "x = -10"
   ]
  },
  {
   "cell_type": "code",
   "execution_count": 2,
   "metadata": {
    "colab": {},
    "colab_type": "code",
    "id": "KngjDWEve7ZP"
   },
   "outputs": [],
   "source": [
    "y = 2.5 * x + 3"
   ]
  },
  {
   "cell_type": "code",
   "execution_count": 3,
   "metadata": {
    "colab": {},
    "colab_type": "code",
    "id": "T5Khl1JUQ1wI"
   },
   "outputs": [
    {
     "name": "stdout",
     "output_type": "stream",
     "text": [
      "x = -10 , y = -22.0\n"
     ]
    }
   ],
   "source": [
    "print(\"x = {} , y = {}\".format(x, y))"
   ]
  },
  {
   "cell_type": "markdown",
   "metadata": {
    "colab_type": "text",
    "id": "RTOb9OI7iWBa"
   },
   "source": [
    "# Machine Learning with Tensorflow"
   ]
  },
  {
   "cell_type": "markdown",
   "metadata": {
    "colab_type": "text",
    "id": "aM06IeJHhpTe"
   },
   "source": [
    "\n",
    "---\n",
    "\n",
    "\n",
    "\n",
    "> > > > > >  **Equation --> y = 2.5 * x + 3**\n",
    "\n",
    "|    x    |   -10   |   -5     |    0    |   2    |  100  |    50     | \n",
    "|---------|----------|-----------|---------|---------|------------|---------|\n",
    "|    y    |   -22   |  -9.5   |    3    |    8   |  253  |  126.5 |\n",
    "\n",
    "---\n"
   ]
  },
  {
   "cell_type": "markdown",
   "metadata": {
    "colab_type": "text",
    "id": "QOyGKKyDe-Dg"
   },
   "source": [
    "  <center>\n",
    "  \n",
    "  <img src=\"https://3qeqpr26caki16dnhd19sv6by6v-wpengine.netdna-ssl.com/wp-content/uploads/2016/07/5-Step-Life-Cycle-for-Neural-Network-Models-in-Keras.png\" width=\"150px\" />\n",
    "\n",
    "</center>"
   ]
  },
  {
   "cell_type": "code",
   "execution_count": 4,
   "metadata": {
    "colab": {},
    "colab_type": "code",
    "id": "vGSGXOHkfAXD"
   },
   "outputs": [],
   "source": [
    "import tensorflow as tf\n",
    "import numpy as np\n",
    "#tf.logging.set_verbosity(tf.logging.ERROR)"
   ]
  },
  {
   "cell_type": "code",
   "execution_count": 5,
   "metadata": {
    "colab": {},
    "colab_type": "code",
    "id": "v8fa7wy3iq8q"
   },
   "outputs": [],
   "source": [
    "x = np.array([-10, -5, 0,  2, 100], dtype=float)\n",
    "y = np.array([-22, -9.5, 3, 8, 253], dtype=float)"
   ]
  },
  {
   "cell_type": "code",
   "execution_count": 6,
   "metadata": {
    "colab": {},
    "colab_type": "code",
    "id": "Vkj8UoDgfOvX"
   },
   "outputs": [
    {
     "name": "stdout",
     "output_type": "stream",
     "text": [
      "x = [-10.  -5.   0.   2. 100.], y=[-22.   -9.5   3.    8.  253. ]\n"
     ]
    }
   ],
   "source": [
    "print(\"x = {}, y={}\".format(x, y))"
   ]
  },
  {
   "cell_type": "markdown",
   "metadata": {
    "colab_type": "text",
    "id": "Z_FcZSKE5I_i"
   },
   "source": [
    "<center>\n",
    "\n",
    "<img src=\"https://upload.wikimedia.org/wikipedia/commons/thumb/9/99/Neural_network_example.svg/220px-Neural_network_example.svg.png\"/>\n",
    "\n",
    "</center>"
   ]
  },
  {
   "cell_type": "code",
   "execution_count": 7,
   "metadata": {
    "colab": {},
    "colab_type": "code",
    "id": "vzxpnShCjDQR"
   },
   "outputs": [],
   "source": [
    "layer = tf.keras.layers.Dense(units=1, input_shape=[1])"
   ]
  },
  {
   "cell_type": "markdown",
   "metadata": {
    "colab_type": "text",
    "id": "V8IiwyH4jWu2"
   },
   "source": [
    "###Define the Model"
   ]
  },
  {
   "cell_type": "markdown",
   "metadata": {
    "colab_type": "text",
    "id": "WvOglXvsWSR2"
   },
   "source": [
    "<img src=\"https://miro.medium.com/max/1800/1*WP0sqq0uyq_bCGZJQTAb2g.png\" width=650 />\n",
    "\n"
   ]
  },
  {
   "cell_type": "code",
   "execution_count": 8,
   "metadata": {
    "colab": {},
    "colab_type": "code",
    "id": "ivo9X-TfjUbA"
   },
   "outputs": [],
   "source": [
    "model = tf.keras.Sequential([layer])"
   ]
  },
  {
   "cell_type": "markdown",
   "metadata": {
    "colab_type": "text",
    "id": "4x6dJs8YjxlN"
   },
   "source": [
    "###Compile the Model"
   ]
  },
  {
   "cell_type": "code",
   "execution_count": 9,
   "metadata": {
    "colab": {},
    "colab_type": "code",
    "id": "Sg4sHtNYjYaM"
   },
   "outputs": [],
   "source": [
    "model.compile(loss='mean_squared_error', \n",
    "              optimizer=tf.keras.optimizers.Adam(0.1))"
   ]
  },
  {
   "cell_type": "markdown",
   "metadata": {
    "colab_type": "text",
    "id": "9MVNCGI6kEnM"
   },
   "source": [
    "###Train the Model (Fit Network)"
   ]
  },
  {
   "cell_type": "code",
   "execution_count": 10,
   "metadata": {
    "colab": {},
    "colab_type": "code",
    "id": "XnC5KCPejq2r"
   },
   "outputs": [],
   "source": [
    "train = model.fit(x, y,epochs=100, verbose=False)"
   ]
  },
  {
   "cell_type": "markdown",
   "metadata": {
    "colab_type": "text",
    "id": "j9VK9zYpkkFI"
   },
   "source": [
    "###Evaluate the Model"
   ]
  },
  {
   "cell_type": "code",
   "execution_count": 11,
   "metadata": {
    "colab": {},
    "colab_type": "code",
    "id": "jkSXImRijrCy"
   },
   "outputs": [
    {
     "data": {
      "text/plain": [
       "[<matplotlib.lines.Line2D at 0x18dfe056188>]"
      ]
     },
     "execution_count": 11,
     "metadata": {},
     "output_type": "execute_result"
    },
    {
     "data": {
      "image/png": "[encoded data removed]",
      "text/plain": [
       "<Figure size 432x288 with 1 Axes>"
      ]
     },
     "metadata": {
      "needs_background": "light"
     },
     "output_type": "display_data"
    }
   ],
   "source": [
    "import matplotlib.pyplot as plt\n",
    "%matplotlib inline\n",
    "plt.plot(train.history['loss'])"
   ]
  },
  {
   "cell_type": "markdown",
   "metadata": {
    "colab_type": "text",
    "id": "94kqW73ukyk9"
   },
   "source": [
    "###Test the Model(Make Predictions)"
   ]
  },
  {
   "cell_type": "code",
   "execution_count": 12,
   "metadata": {
    "colab": {},
    "colab_type": "code",
    "id": "hlAqqr1wk3_z"
   },
   "outputs": [
    {
     "data": {
      "text/plain": [
       "array([[127.41527]], dtype=float32)"
      ]
     },
     "execution_count": 12,
     "metadata": {},
     "output_type": "execute_result"
    }
   ],
   "source": [
    "model.predict([50])"
   ]
  },
  {
   "cell_type": "code",
   "execution_count": 13,
   "metadata": {
    "colab": {},
    "colab_type": "code",
    "id": "MW6Pt7rzk_eh"
   },
   "outputs": [
    {
     "data": {
      "text/plain": [
       "[array([[2.5014641]], dtype=float32), array([2.3420644], dtype=float32)]"
      ]
     },
     "execution_count": 13,
     "metadata": {},
     "output_type": "execute_result"
    }
   ],
   "source": [
    "layer.get_weights()"
   ]
  },
  {
   "cell_type": "markdown",
   "metadata": {
    "colab": {},
    "colab_type": "code",
    "id": "UgTmKrB5d91A"
   },
   "source": [
    "Further Exploration for GPU users (added by Synchronicity89)\n",
    "Put the code into a function"
   ]
  },
  {
   "cell_type": "code",
   "execution_count": 14,
   "metadata": {},
   "outputs": [],
   "source": [
    "#import matplotlib.pyplot as plt                 if you haven't already.  also make it plot inline:\n",
    "%matplotlib inline\n",
    "def DefineCompileTrainEvaluate(xInput, yOutput, numUnits, unitShape, learningRate, numEpochs, xInputToPredictYFrom, anotherLayer=None):\n",
    "    layer = tf.keras.layers.Dense(units=numUnits, input_shape=[unitShape])\n",
    "    layer2use = [layer]\n",
    "    if(anotherLayer != None):\n",
    "        layer2use = [layer, anotherLayer]\n",
    "    model = tf.keras.Sequential(layer2use)\n",
    "    model.compile(loss='mean_squared_error', optimizer=tf.keras.optimizers.Adam(learningRate))\n",
    "    train = model.fit(xInput, yOutput,epochs=numEpochs, verbose=False)\n",
    "    plt.plot(train.history['loss'])\n",
    "    print(model.predict([xInputToPredictYFrom]))\n",
    "    if(anotherLayer != None):\n",
    "        return model,layer, layer2use\n",
    "    else:\n",
    "        return model,layer"
   ]
  },
  {
   "cell_type": "markdown",
   "metadata": {},
   "source": [
    "Test the function with the same values as before.  In all these examples cut the number of epochs in half if you aren't using a GPU "
   ]
  },
  {
   "cell_type": "code",
   "execution_count": 15,
   "metadata": {},
   "outputs": [
    {
     "name": "stdout",
     "output_type": "stream",
     "text": [
      "[[127.083435]]\n"
     ]
    },
    {
     "data": {
      "image/png": "[encoded data removed]",
      "text/plain": [
       "<Figure size 432x288 with 1 Axes>"
      ]
     },
     "metadata": {
      "needs_background": "light"
     },
     "output_type": "display_data"
    }
   ],
   "source": [
    "result = DefineCompileTrainEvaluate(x, y, 1, 1, 0.1, 100, 50)"
   ]
  },
  {
   "cell_type": "code",
   "execution_count": 16,
   "metadata": {},
   "outputs": [
    {
     "data": {
      "text/plain": [
       "[array([[2.4832952]], dtype=float32), array([2.9186811], dtype=float32)]"
      ]
     },
     "execution_count": 16,
     "metadata": {},
     "output_type": "execute_result"
    }
   ],
   "source": [
    "result[1].get_weights()"
   ]
  },
  {
   "cell_type": "markdown",
   "metadata": {},
   "source": [
    "Run the exact same thing several times, to see what the different randomization does."
   ]
  },
  {
   "cell_type": "code",
   "execution_count": 17,
   "metadata": {},
   "outputs": [
    {
     "name": "stdout",
     "output_type": "stream",
     "text": [
      "[[127.01901]]\n"
     ]
    },
    {
     "data": {
      "text/plain": [
       "[array([[2.478593]], dtype=float32), array([3.0893521], dtype=float32)]"
      ]
     },
     "execution_count": 17,
     "metadata": {},
     "output_type": "execute_result"
    },
    {
     "data": {
      "image/png": "[encoded data removed]",
      "text/plain": [
       "<Figure size 432x288 with 1 Axes>"
      ]
     },
     "metadata": {
      "needs_background": "light"
     },
     "output_type": "display_data"
    }
   ],
   "source": [
    "result = DefineCompileTrainEvaluate(x, y, 1, 1, 0.1, 100, 50)\n",
    "result[1].get_weights()"
   ]
  },
  {
   "cell_type": "code",
   "execution_count": 18,
   "metadata": {},
   "outputs": [
    {
     "name": "stdout",
     "output_type": "stream",
     "text": [
      "[[127.699036]]\n"
     ]
    },
    {
     "data": {
      "text/plain": [
       "[array([[2.503644]], dtype=float32), array([2.5168362], dtype=float32)]"
      ]
     },
     "execution_count": 18,
     "metadata": {},
     "output_type": "execute_result"
    },
    {
     "data": {
      "image/png": "[encoded data removed]",
      "text/plain": [
       "<Figure size 432x288 with 1 Axes>"
      ]
     },
     "metadata": {
      "needs_background": "light"
     },
     "output_type": "display_data"
    }
   ],
   "source": [
    "result = DefineCompileTrainEvaluate(x, y, 1, 1, 0.1, 100, 50)\n",
    "result[1].get_weights()"
   ]
  },
  {
   "cell_type": "markdown",
   "metadata": {},
   "source": [
    "Create much more data for x and y"
   ]
  },
  {
   "cell_type": "code",
   "execution_count": 19,
   "metadata": {},
   "outputs": [],
   "source": [
    "x = np.linspace(-1000, 1000, num=2001)"
   ]
  },
  {
   "cell_type": "code",
   "execution_count": 20,
   "metadata": {},
   "outputs": [
    {
     "name": "stdout",
     "output_type": "stream",
     "text": [
      "[-1000.  -999.  -998. ...   998.   999.  1000.]\n"
     ]
    }
   ],
   "source": [
    "print(x)"
   ]
  },
  {
   "cell_type": "markdown",
   "metadata": {},
   "source": [
    "Use one of the most powerful features of numpy: vectors.  Here x is a vector so create another vector y that contains the calculated values of the linear equation"
   ]
  },
  {
   "cell_type": "code",
   "execution_count": 21,
   "metadata": {},
   "outputs": [],
   "source": [
    "y = 2.5 * x + 3"
   ]
  },
  {
   "cell_type": "code",
   "execution_count": 22,
   "metadata": {},
   "outputs": [
    {
     "name": "stdout",
     "output_type": "stream",
     "text": [
      "[-2497.  -2494.5 -2492.  ...  2498.   2500.5  2503. ]\n"
     ]
    }
   ],
   "source": [
    "print(y)"
   ]
  },
  {
   "cell_type": "markdown",
   "metadata": {},
   "source": [
    "If you are not sure tensorflow will use the GPU, change 300 to 100, even so this can take many minutes to execute.  To use GPU, if available, pip install tensorflow-gpu"
   ]
  },
  {
   "cell_type": "code",
   "execution_count": 23,
   "metadata": {},
   "outputs": [
    {
     "name": "stdout",
     "output_type": "stream",
     "text": [
      "[[7503.]]\n"
     ]
    },
    {
     "data": {
      "text/plain": [
       "[array([[2.5]], dtype=float32), array([2.9999993], dtype=float32)]"
      ]
     },
     "execution_count": 23,
     "metadata": {},
     "output_type": "execute_result"
    },
    {
     "data": {
      "image/png": "[encoded data removed]",
      "text/plain": [
       "<Figure size 432x288 with 1 Axes>"
      ]
     },
     "metadata": {
      "needs_background": "light"
     },
     "output_type": "display_data"
    }
   ],
   "source": [
    "result = DefineCompileTrainEvaluate(x, y, 1, 1, 0.05, 300, 3000)\n",
    "result[1].get_weights()"
   ]
  },
  {
   "cell_type": "markdown",
   "metadata": {},
   "source": [
    "Test to see if the predicted value matches.  Should be close or exactly matching the value above."
   ]
  },
  {
   "cell_type": "code",
   "execution_count": 24,
   "metadata": {},
   "outputs": [
    {
     "name": "stdout",
     "output_type": "stream",
     "text": [
      "7503.0\n"
     ]
    }
   ],
   "source": [
    "print(2.5*3000 + 3)"
   ]
  },
  {
   "cell_type": "markdown",
   "metadata": {},
   "source": [
    "The get_weights() shows that the exact slope and y intercept are being used as weights.  Let's see how well it does if much fewer epochs are used"
   ]
  },
  {
   "cell_type": "code",
   "execution_count": 25,
   "metadata": {},
   "outputs": [
    {
     "name": "stdout",
     "output_type": "stream",
     "text": [
      "[[2500003.]]\n"
     ]
    },
    {
     "data": {
      "text/plain": [
       "[array([[2.5]], dtype=float32), array([2.999965], dtype=float32)]"
      ]
     },
     "execution_count": 25,
     "metadata": {},
     "output_type": "execute_result"
    },
    {
     "data": {
      "image/png": "[encoded data removed]",
      "text/plain": [
       "<Figure size 432x288 with 1 Axes>"
      ]
     },
     "metadata": {
      "needs_background": "light"
     },
     "output_type": "display_data"
    }
   ],
   "source": [
    "result = DefineCompileTrainEvaluate(x, y, 1, 1, 0.05, 50, 1000000)\n",
    "result[1].get_weights()"
   ]
  },
  {
   "cell_type": "markdown",
   "metadata": {},
   "source": [
    "Explore what happens when the layers are changed, by adding one more neuron in a new layer."
   ]
  },
  {
   "cell_type": "code",
   "execution_count": 26,
   "metadata": {},
   "outputs": [
    {
     "name": "stdout",
     "output_type": "stream",
     "text": [
      "[[2499948.2]]\n"
     ]
    },
    {
     "data": {
      "text/plain": [
       "[array([[-1.3998363]], dtype=float32), array([-1.1099664], dtype=float32)]"
      ]
     },
     "execution_count": 26,
     "metadata": {},
     "output_type": "execute_result"
    },
    {
     "data": {
      "image/png": "[encoded data removed]",
      "text/plain": [
       "<Figure size 432x288 with 1 Axes>"
      ]
     },
     "metadata": {
      "needs_background": "light"
     },
     "output_type": "display_data"
    }
   ],
   "source": [
    "result = DefineCompileTrainEvaluate(x, y, 1, 1, 0.100, 100, 1000000, anotherLayer=tf.keras.layers.Dense(units=1, input_shape=[1]))\n",
    "result[1].get_weights()"
   ]
  },
  {
   "cell_type": "markdown",
   "metadata": {},
   "source": [
    "The 2 layers are now sharing the workload with a lot of randomness as to how they share it. This calculation shows how the two sets of weights are sharing the load. The calculated number should be the same as above."
   ]
  },
  {
   "cell_type": "code",
   "execution_count": 27,
   "metadata": {},
   "outputs": [
    {
     "name": "stdout",
     "output_type": "stream",
     "text": [
      "[2499948.44071817]\n"
     ]
    }
   ],
   "source": [
    "firstWeights = result[2][0].get_weights()\n",
    "secondWeights = result[2][1].get_weights()\n",
    "print(secondWeights[0][0] *(firstWeights[0][0]*1000000 + firstWeights[1][0]) + secondWeights[1][0])"
   ]
  },
  {
   "cell_type": "markdown",
   "metadata": {},
   "source": [
    "change to an exponential function, and hope that the two layers will calculate it"
   ]
  },
  {
   "cell_type": "code",
   "execution_count": 28,
   "metadata": {},
   "outputs": [],
   "source": [
    "y = x**2"
   ]
  },
  {
   "cell_type": "code",
   "execution_count": 29,
   "metadata": {},
   "outputs": [
    {
     "name": "stdout",
     "output_type": "stream",
     "text": [
      "[[328979.12]]\n"
     ]
    },
    {
     "data": {
      "text/plain": [
       "[array([[0.02295135]], dtype=float32), array([669.2686], dtype=float32)]"
      ]
     },
     "execution_count": 29,
     "metadata": {},
     "output_type": "execute_result"
    },
    {
     "data": {
      "image/png": "[encoded data removed]",
      "text/plain": [
       "<Figure size 432x288 with 1 Axes>"
      ]
     },
     "metadata": {
      "needs_background": "light"
     },
     "output_type": "display_data"
    }
   ],
   "source": [
    "result = DefineCompileTrainEvaluate(x, y, 1, 1, 0.100, 100, 500, anotherLayer=tf.keras.layers.Dense(units=1, input_shape=[1]))\n",
    "result[1].get_weights()"
   ]
  },
  {
   "cell_type": "code",
   "execution_count": 30,
   "metadata": {},
   "outputs": [
    {
     "name": "stdout",
     "output_type": "stream",
     "text": [
      "[1000000.  998001.  996004. ...  996004.  998001. 1000000.]\n"
     ]
    }
   ],
   "source": [
    "print(y)"
   ]
  },
  {
   "cell_type": "code",
   "execution_count": 31,
   "metadata": {},
   "outputs": [
    {
     "name": "stdout",
     "output_type": "stream",
     "text": [
      "[328979.12]\n"
     ]
    }
   ],
   "source": [
    "firstWeights = result[2][0].get_weights()\n",
    "secondWeights = result[2][1].get_weights()\n",
    "print(secondWeights[0][0] *(firstWeights[0][0]*500 + firstWeights[1][0]) + secondWeights[1][0])"
   ]
  },
  {
   "cell_type": "markdown",
   "metadata": {},
   "source": [
    "It appears that the 2 layers are not enough to predict the exponential function.  In science, a negative outcome is just as valid as a positive outcome.  A one layer 2 neuron net would probably be able to do it, but that is a different experiment.  Let's stick with layers with a single neuron and try another linear function"
   ]
  },
  {
   "cell_type": "code",
   "execution_count": 32,
   "metadata": {},
   "outputs": [],
   "source": [
    "y = 3.5 * (2.5 * x + 3) + 9"
   ]
  },
  {
   "cell_type": "code",
   "execution_count": 33,
   "metadata": {},
   "outputs": [
    {
     "name": "stdout",
     "output_type": "stream",
     "text": [
      "[[4394.502]]\n"
     ]
    },
    {
     "data": {
      "text/plain": [
       "[array([[3.133817]], dtype=float32), array([5.841561], dtype=float32)]"
      ]
     },
     "execution_count": 33,
     "metadata": {},
     "output_type": "execute_result"
    },
    {
     "data": {
      "image/png": "[encoded data removed]",
      "text/plain": [
       "<Figure size 432x288 with 1 Axes>"
      ]
     },
     "metadata": {
      "needs_background": "light"
     },
     "output_type": "display_data"
    }
   ],
   "source": [
    "result = DefineCompileTrainEvaluate(x, y, 1, 1, 0.100, 100, 500, anotherLayer=tf.keras.layers.Dense(units=1, input_shape=[1]))\n",
    "result[1].get_weights()"
   ]
  },
  {
   "cell_type": "code",
   "execution_count": 34,
   "metadata": {},
   "outputs": [
    {
     "name": "stdout",
     "output_type": "stream",
     "text": [
      "[4394.502]\n",
      "[array([[3.133817]], dtype=float32), array([5.841561], dtype=float32)]\n",
      "[array([[2.7921236]], dtype=float32), array([3.1896908], dtype=float32)]\n",
      "4394.5\n"
     ]
    }
   ],
   "source": [
    "firstWeights = result[2][0].get_weights()\n",
    "secondWeights = result[2][1].get_weights()\n",
    "print(secondWeights[0][0] *(firstWeights[0][0]*500 + firstWeights[1][0]) + secondWeights[1][0])\n",
    "print(firstWeights)\n",
    "print(secondWeights)\n",
    "print(3.5 * (2.5 * 500 + 3) + 9)"
   ]
  },
  {
   "cell_type": "code",
   "execution_count": 35,
   "metadata": {},
   "outputs": [
    {
     "name": "stdout",
     "output_type": "stream",
     "text": [
      "8.75\n",
      "[8.750004]\n"
     ]
    }
   ],
   "source": [
    "print(3.5 * 2.5)\n",
    "print(secondWeights[0][0]  * firstWeights[0][0])"
   ]
  },
  {
   "cell_type": "code",
   "execution_count": null,
   "metadata": {},
   "outputs": [],
   "source": []
  }
 ],
 "metadata": {
  "accelerator": "GPU",
  "colab": {
   "collapsed_sections": [],
   "include_colab_link": true,
   "name": "MLWithTensorflow2.ipynb",
   "provenance": [],
   "toc_visible": true
  },
  "kernelspec": {
   "display_name": "Python 3",
   "language": "python",
   "name": "python3"
  },
  "language_info": {
   "codemirror_mode": {
    "name": "ipython",
    "version": 3
   },
   "file_extension": ".py",
   "mimetype": "text/x-python",
   "name": "python",
   "nbconvert_exporter": "python",
   "pygments_lexer": "ipython3",
   "version": "3.7.5"
  }
 },
 "nbformat": 4,
 "nbformat_minor": 1
}
